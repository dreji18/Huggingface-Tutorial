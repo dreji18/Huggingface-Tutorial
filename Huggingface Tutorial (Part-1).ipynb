{
 "cells": [
  {
   "cell_type": "markdown",
   "id": "7012cffc",
   "metadata": {},
   "source": [
    "## 1. Token Classification / Named Entity Recognition"
   ]
  },
  {
   "cell_type": "code",
   "execution_count": null,
   "id": "4b55aff6",
   "metadata": {},
   "outputs": [],
   "source": [
    "!pip install transformers"
   ]
  },
  {
   "cell_type": "code",
   "execution_count": 1,
   "id": "dd917518",
   "metadata": {},
   "outputs": [],
   "source": [
    "from transformers import AutoTokenizer, AutoModelForTokenClassification\n",
    "from transformers import pipeline\n",
    "\n",
    "tokenizer = AutoTokenizer.from_pretrained(\"dbmdz/bert-large-cased-finetuned-conll03-english\")\n",
    "model = AutoModelForTokenClassification.from_pretrained(\"dbmdz/bert-large-cased-finetuned-conll03-english\")\n",
    "\n",
    "nlp = pipeline(\"ner\", model=model, tokenizer=tokenizer, grouped_entities=True)"
   ]
  },
  {
   "cell_type": "code",
   "execution_count": 2,
   "id": "0eb31c8c",
   "metadata": {},
   "outputs": [],
   "source": [
    "def extract_ents(sent): \n",
    "    \"\"\"\n",
    "    Author: Deepak John Reji\n",
    "    Description: function to extract person names from sentence/paragraphs\n",
    "    Input: raw sentences/paragraphs\n",
    "    Output: extracted entities in the form of list\n",
    "\n",
    "    \"\"\"\n",
    "    ner_results = nlp(sent)\n",
    "    \n",
    "    entity_list = []\n",
    "    for i in ner_results:\n",
    "        if i['entity_group'] == 'PER': #'LOC', 'MISC', 'ORG'\n",
    "            entity_list.append(i['word'])\n",
    "        \n",
    "    return entity_list\n"
   ]
  },
  {
   "cell_type": "markdown",
   "id": "4facc5e5",
   "metadata": {},
   "source": [
    "##### Example usages"
   ]
  },
  {
   "cell_type": "markdown",
   "id": "5cc3af32",
   "metadata": {},
   "source": [
    "Single sentence"
   ]
  },
  {
   "cell_type": "code",
   "execution_count": 3,
   "id": "963e63d9",
   "metadata": {},
   "outputs": [
    {
     "data": {
      "text/plain": [
       "['Deepak', 'Roshan']"
      ]
     },
     "execution_count": 3,
     "metadata": {},
     "output_type": "execute_result"
    }
   ],
   "source": [
    "extract_ents(\"Deepak and Roshan are childhood friends.\")"
   ]
  },
  {
   "cell_type": "markdown",
   "id": "bdb418fa",
   "metadata": {},
   "source": [
    "Executing on a batch or dataframe"
   ]
  },
  {
   "cell_type": "code",
   "execution_count": 4,
   "id": "b4b94ab1",
   "metadata": {},
   "outputs": [
    {
     "data": {
      "text/html": [
       "<div>\n",
       "<style scoped>\n",
       "    .dataframe tbody tr th:only-of-type {\n",
       "        vertical-align: middle;\n",
       "    }\n",
       "\n",
       "    .dataframe tbody tr th {\n",
       "        vertical-align: top;\n",
       "    }\n",
       "\n",
       "    .dataframe thead th {\n",
       "        text-align: right;\n",
       "    }\n",
       "</style>\n",
       "<table border=\"1\" class=\"dataframe\">\n",
       "  <thead>\n",
       "    <tr style=\"text-align: right;\">\n",
       "      <th></th>\n",
       "      <th>Sentences</th>\n",
       "    </tr>\n",
       "  </thead>\n",
       "  <tbody>\n",
       "    <tr>\n",
       "      <th>0</th>\n",
       "      <td>Thor Odinson is the Asgardian God of Thunder, ...</td>\n",
       "    </tr>\n",
       "    <tr>\n",
       "      <th>1</th>\n",
       "      <td>Upon being welcomed back to Asgard as a hero, ...</td>\n",
       "    </tr>\n",
       "    <tr>\n",
       "      <th>2</th>\n",
       "      <td>Thor returned to Asgard having defeated his br...</td>\n",
       "    </tr>\n",
       "    <tr>\n",
       "      <th>3</th>\n",
       "      <td>Loki Laufeyson was the biological son of Laufe...</td>\n",
       "    </tr>\n",
       "    <tr>\n",
       "      <th>4</th>\n",
       "      <td>Transported by the wormhole to Sanctuary, Loki...</td>\n",
       "    </tr>\n",
       "  </tbody>\n",
       "</table>\n",
       "</div>"
      ],
      "text/plain": [
       "                                           Sentences\n",
       "0  Thor Odinson is the Asgardian God of Thunder, ...\n",
       "1  Upon being welcomed back to Asgard as a hero, ...\n",
       "2  Thor returned to Asgard having defeated his br...\n",
       "3  Loki Laufeyson was the biological son of Laufe...\n",
       "4  Transported by the wormhole to Sanctuary, Loki..."
      ]
     },
     "execution_count": 4,
     "metadata": {},
     "output_type": "execute_result"
    }
   ],
   "source": [
    "import os\n",
    "import pandas as pd\n",
    "\n",
    "os.chdir(r'C:\\Users\\deepak.reji\\Documents\\Python Scripts\\Huggingface Tutorial')\n",
    "data = pd.read_excel('Marvel Datastore.xlsx')\n",
    "data.head()"
   ]
  },
  {
   "cell_type": "code",
   "execution_count": 5,
   "id": "ef7be3d7",
   "metadata": {},
   "outputs": [
    {
     "data": {
      "text/html": [
       "<div>\n",
       "<style scoped>\n",
       "    .dataframe tbody tr th:only-of-type {\n",
       "        vertical-align: middle;\n",
       "    }\n",
       "\n",
       "    .dataframe tbody tr th {\n",
       "        vertical-align: top;\n",
       "    }\n",
       "\n",
       "    .dataframe thead th {\n",
       "        text-align: right;\n",
       "    }\n",
       "</style>\n",
       "<table border=\"1\" class=\"dataframe\">\n",
       "  <thead>\n",
       "    <tr style=\"text-align: right;\">\n",
       "      <th></th>\n",
       "      <th>Sentences</th>\n",
       "      <th>entity list</th>\n",
       "    </tr>\n",
       "  </thead>\n",
       "  <tbody>\n",
       "    <tr>\n",
       "      <th>0</th>\n",
       "      <td>Thor Odinson is the Asgardian God of Thunder, ...</td>\n",
       "      <td>[Thor Odinson, God of Thunder, Thor, Odin, Tho...</td>\n",
       "    </tr>\n",
       "    <tr>\n",
       "      <th>1</th>\n",
       "      <td>Upon being welcomed back to Asgard as a hero, ...</td>\n",
       "      <td>[Thor, Loki, Thor, Loki, Loki]</td>\n",
       "    </tr>\n",
       "    <tr>\n",
       "      <th>2</th>\n",
       "      <td>Thor returned to Asgard having defeated his br...</td>\n",
       "      <td>[Thor, Thor, Thor, Jane Foster, Thor, Loki, Fo...</td>\n",
       "    </tr>\n",
       "    <tr>\n",
       "      <th>3</th>\n",
       "      <td>Loki Laufeyson was the biological son of Laufe...</td>\n",
       "      <td>[Loki Laufeyson, Laufey, Odin, Loki, Frigga, T...</td>\n",
       "    </tr>\n",
       "    <tr>\n",
       "      <th>4</th>\n",
       "      <td>Transported by the wormhole to Sanctuary, Loki...</td>\n",
       "      <td>[Loki, The Other, Thanos, Loki, Loki, Thanos, ...</td>\n",
       "    </tr>\n",
       "  </tbody>\n",
       "</table>\n",
       "</div>"
      ],
      "text/plain": [
       "                                           Sentences  \\\n",
       "0  Thor Odinson is the Asgardian God of Thunder, ...   \n",
       "1  Upon being welcomed back to Asgard as a hero, ...   \n",
       "2  Thor returned to Asgard having defeated his br...   \n",
       "3  Loki Laufeyson was the biological son of Laufe...   \n",
       "4  Transported by the wormhole to Sanctuary, Loki...   \n",
       "\n",
       "                                         entity list  \n",
       "0  [Thor Odinson, God of Thunder, Thor, Odin, Tho...  \n",
       "1                     [Thor, Loki, Thor, Loki, Loki]  \n",
       "2  [Thor, Thor, Thor, Jane Foster, Thor, Loki, Fo...  \n",
       "3  [Loki Laufeyson, Laufey, Odin, Loki, Frigga, T...  \n",
       "4  [Loki, The Other, Thanos, Loki, Loki, Thanos, ...  "
      ]
     },
     "execution_count": 5,
     "metadata": {},
     "output_type": "execute_result"
    }
   ],
   "source": [
    "data['entity list'] = data['Sentences'].apply(lambda x: extract_ents(x))\n",
    "data.head()"
   ]
  },
  {
   "cell_type": "markdown",
   "id": "58140404",
   "metadata": {},
   "source": [
    "    "
   ]
  },
  {
   "cell_type": "markdown",
   "id": "37aeb866",
   "metadata": {},
   "source": [
    "       "
   ]
  },
  {
   "cell_type": "markdown",
   "id": "990e5698",
   "metadata": {},
   "source": [
    "## 2. Text Classification"
   ]
  },
  {
   "cell_type": "code",
   "execution_count": 6,
   "id": "fdc9c361",
   "metadata": {},
   "outputs": [
    {
     "data": {
      "application/vnd.jupyter.widget-view+json": {
       "model_id": "a40e6fca6003467380b51a818cae2652",
       "version_major": 2,
       "version_minor": 0
      },
      "text/plain": [
       "Downloading:   0%|          | 0.00/629 [00:00<?, ?B/s]"
      ]
     },
     "metadata": {},
     "output_type": "display_data"
    },
    {
     "data": {
      "application/vnd.jupyter.widget-view+json": {
       "model_id": "9f1366cb47464a9abfcad1dd2d7641a8",
       "version_major": 2,
       "version_minor": 0
      },
      "text/plain": [
       "Downloading:   0%|          | 0.00/232k [00:00<?, ?B/s]"
      ]
     },
     "metadata": {},
     "output_type": "display_data"
    },
    {
     "data": {
      "application/vnd.jupyter.widget-view+json": {
       "model_id": "53cbc26d0dc741819bcd4e43a2d683a4",
       "version_major": 2,
       "version_minor": 0
      },
      "text/plain": [
       "Downloading:   0%|          | 0.00/48.0 [00:00<?, ?B/s]"
      ]
     },
     "metadata": {},
     "output_type": "display_data"
    },
    {
     "data": {
      "application/vnd.jupyter.widget-view+json": {
       "model_id": "5eb8bb5e758e48ada414b5bdf7633d83",
       "version_major": 2,
       "version_minor": 0
      },
      "text/plain": [
       "Downloading:   0%|          | 0.00/268M [00:00<?, ?B/s]"
      ]
     },
     "metadata": {},
     "output_type": "display_data"
    }
   ],
   "source": [
    "from transformers import AutoTokenizer, AutoModelForSequenceClassification\n",
    "\n",
    "tokenizer = AutoTokenizer.from_pretrained(\"distilbert-base-uncased-finetuned-sst-2-english\")\n",
    "model = AutoModelForSequenceClassification.from_pretrained(\"distilbert-base-uncased-finetuned-sst-2-english\")\n",
    "\n",
    "classifier = pipeline('text-classification', model=model, tokenizer=tokenizer) # cuda = 0 based on gpu availability"
   ]
  },
  {
   "cell_type": "markdown",
   "id": "91e90a54",
   "metadata": {},
   "source": [
    "Single sentence"
   ]
  },
  {
   "cell_type": "code",
   "execution_count": 8,
   "id": "964879ec",
   "metadata": {},
   "outputs": [
    {
     "data": {
      "text/plain": [
       "[{'label': 'NEGATIVE', 'score': 0.9919543266296387}]"
      ]
     },
     "execution_count": 8,
     "metadata": {},
     "output_type": "execute_result"
    }
   ],
   "source": [
    "classi_out = classifier(\"The irony, of course, is that the exhibit that invites people to throw trash at vacuuming Ivanka Trump lookalike reflects every stereotype feminists claim to stand against, oversexualizing Ivanka’s body and ignoring her hard work.\")\n",
    "classi_out"
   ]
  },
  {
   "cell_type": "code",
   "execution_count": 9,
   "id": "ac30c241",
   "metadata": {},
   "outputs": [
    {
     "data": {
      "text/plain": [
       "'NEGATIVE'"
      ]
     },
     "execution_count": 9,
     "metadata": {},
     "output_type": "execute_result"
    }
   ],
   "source": [
    "classi_out[0]['label']"
   ]
  },
  {
   "cell_type": "code",
   "execution_count": 10,
   "id": "27b7db42",
   "metadata": {},
   "outputs": [
    {
     "data": {
      "text/plain": [
       "0.9919543266296387"
      ]
     },
     "execution_count": 10,
     "metadata": {},
     "output_type": "execute_result"
    }
   ],
   "source": [
    "classi_out[0]['score']"
   ]
  },
  {
   "cell_type": "markdown",
   "id": "43633617",
   "metadata": {},
   "source": [
    "Executing on a batch or dataframe"
   ]
  },
  {
   "cell_type": "code",
   "execution_count": 11,
   "id": "a1bcbb5a",
   "metadata": {},
   "outputs": [
    {
     "data": {
      "text/html": [
       "<div>\n",
       "<style scoped>\n",
       "    .dataframe tbody tr th:only-of-type {\n",
       "        vertical-align: middle;\n",
       "    }\n",
       "\n",
       "    .dataframe tbody tr th {\n",
       "        vertical-align: top;\n",
       "    }\n",
       "\n",
       "    .dataframe thead th {\n",
       "        text-align: right;\n",
       "    }\n",
       "</style>\n",
       "<table border=\"1\" class=\"dataframe\">\n",
       "  <thead>\n",
       "    <tr style=\"text-align: right;\">\n",
       "      <th></th>\n",
       "      <th>Sentences</th>\n",
       "      <th>entity list</th>\n",
       "      <th>classification</th>\n",
       "    </tr>\n",
       "  </thead>\n",
       "  <tbody>\n",
       "    <tr>\n",
       "      <th>0</th>\n",
       "      <td>Thor Odinson is the Asgardian God of Thunder, ...</td>\n",
       "      <td>[Thor Odinson, God of Thunder, Thor, Odin, Tho...</td>\n",
       "      <td>[{'label': 'POSITIVE', 'score': 0.987520217895...</td>\n",
       "    </tr>\n",
       "    <tr>\n",
       "      <th>1</th>\n",
       "      <td>Upon being welcomed back to Asgard as a hero, ...</td>\n",
       "      <td>[Thor, Loki, Thor, Loki, Loki]</td>\n",
       "      <td>[{'label': 'POSITIVE', 'score': 0.970530450344...</td>\n",
       "    </tr>\n",
       "    <tr>\n",
       "      <th>2</th>\n",
       "      <td>Thor returned to Asgard having defeated his br...</td>\n",
       "      <td>[Thor, Thor, Thor, Jane Foster, Thor, Loki, Fo...</td>\n",
       "      <td>[{'label': 'NEGATIVE', 'score': 0.992479979991...</td>\n",
       "    </tr>\n",
       "    <tr>\n",
       "      <th>3</th>\n",
       "      <td>Loki Laufeyson was the biological son of Laufe...</td>\n",
       "      <td>[Loki Laufeyson, Laufey, Odin, Loki, Frigga, T...</td>\n",
       "      <td>[{'label': 'NEGATIVE', 'score': 0.828045129776...</td>\n",
       "    </tr>\n",
       "    <tr>\n",
       "      <th>4</th>\n",
       "      <td>Transported by the wormhole to Sanctuary, Loki...</td>\n",
       "      <td>[Loki, The Other, Thanos, Loki, Loki, Thanos, ...</td>\n",
       "      <td>[{'label': 'NEGATIVE', 'score': 0.958619356155...</td>\n",
       "    </tr>\n",
       "    <tr>\n",
       "      <th>5</th>\n",
       "      <td>Asgard was one of the Nine Realms and the home...</td>\n",
       "      <td>[Thor, Loki, Surtur, Hela]</td>\n",
       "      <td>[{'label': 'POSITIVE', 'score': 0.939087033271...</td>\n",
       "    </tr>\n",
       "    <tr>\n",
       "      <th>6</th>\n",
       "      <td>Mjølnir (\"that which smashes\")[1] was a powerf...</td>\n",
       "      <td>[Hela, Thor, Loki, Thor, Captain America, Than...</td>\n",
       "      <td>[{'label': 'POSITIVE', 'score': 0.996382296085...</td>\n",
       "    </tr>\n",
       "    <tr>\n",
       "      <th>7</th>\n",
       "      <td>Stormbreaker is an enchanted axe used by Thor....</td>\n",
       "      <td>[Thor]</td>\n",
       "      <td>[{'label': 'POSITIVE', 'score': 0.987600088119...</td>\n",
       "    </tr>\n",
       "    <tr>\n",
       "      <th>8</th>\n",
       "      <td>Doctor Jane Foster is one of the world's leadi...</td>\n",
       "      <td>[Jane Foster, Thor, Loki, Loki]</td>\n",
       "      <td>[{'label': 'POSITIVE', 'score': 0.994690060615...</td>\n",
       "    </tr>\n",
       "    <tr>\n",
       "      <th>9</th>\n",
       "      <td>She found out of Thor's return through the foo...</td>\n",
       "      <td>[Thor, Foster, Thor, Thor, Malekith, Foster, T...</td>\n",
       "      <td>[{'label': 'NEGATIVE', 'score': 0.996562004089...</td>\n",
       "    </tr>\n",
       "    <tr>\n",
       "      <th>10</th>\n",
       "      <td>Hela Odinsdottir was the Asgardian Goddess of ...</td>\n",
       "      <td>[Hela Odinsdottir, Odin, Hela, Thor, Loki, Hel...</td>\n",
       "      <td>[{'label': 'POSITIVE', 'score': 0.995506346225...</td>\n",
       "    </tr>\n",
       "    <tr>\n",
       "      <th>11</th>\n",
       "      <td>As Thor and Loki grew up together, Loki develo...</td>\n",
       "      <td>[Thor, Loki, Loki, Frigga, Thor, Loki, Thor, T...</td>\n",
       "      <td>[{'label': 'POSITIVE', 'score': 0.967410206794...</td>\n",
       "    </tr>\n",
       "    <tr>\n",
       "      <th>12</th>\n",
       "      <td>Thor had an idyllic childhood, brought up in A...</td>\n",
       "      <td>[Thor, Odin, Frigga, Loki, Loki, Thor, Thor]</td>\n",
       "      <td>[{'label': 'POSITIVE', 'score': 0.998435795307...</td>\n",
       "    </tr>\n",
       "    <tr>\n",
       "      <th>13</th>\n",
       "      <td>Following Thanos' death, Thor left the Avenger...</td>\n",
       "      <td>[Thanos, Thor, Hulk, Rocket, Thor, Thor, Thano...</td>\n",
       "      <td>[{'label': 'POSITIVE', 'score': 0.774845719337...</td>\n",
       "    </tr>\n",
       "  </tbody>\n",
       "</table>\n",
       "</div>"
      ],
      "text/plain": [
       "                                            Sentences  \\\n",
       "0   Thor Odinson is the Asgardian God of Thunder, ...   \n",
       "1   Upon being welcomed back to Asgard as a hero, ...   \n",
       "2   Thor returned to Asgard having defeated his br...   \n",
       "3   Loki Laufeyson was the biological son of Laufe...   \n",
       "4   Transported by the wormhole to Sanctuary, Loki...   \n",
       "5   Asgard was one of the Nine Realms and the home...   \n",
       "6   Mjølnir (\"that which smashes\")[1] was a powerf...   \n",
       "7   Stormbreaker is an enchanted axe used by Thor....   \n",
       "8   Doctor Jane Foster is one of the world's leadi...   \n",
       "9   She found out of Thor's return through the foo...   \n",
       "10  Hela Odinsdottir was the Asgardian Goddess of ...   \n",
       "11  As Thor and Loki grew up together, Loki develo...   \n",
       "12  Thor had an idyllic childhood, brought up in A...   \n",
       "13  Following Thanos' death, Thor left the Avenger...   \n",
       "\n",
       "                                          entity list  \\\n",
       "0   [Thor Odinson, God of Thunder, Thor, Odin, Tho...   \n",
       "1                      [Thor, Loki, Thor, Loki, Loki]   \n",
       "2   [Thor, Thor, Thor, Jane Foster, Thor, Loki, Fo...   \n",
       "3   [Loki Laufeyson, Laufey, Odin, Loki, Frigga, T...   \n",
       "4   [Loki, The Other, Thanos, Loki, Loki, Thanos, ...   \n",
       "5                          [Thor, Loki, Surtur, Hela]   \n",
       "6   [Hela, Thor, Loki, Thor, Captain America, Than...   \n",
       "7                                              [Thor]   \n",
       "8                     [Jane Foster, Thor, Loki, Loki]   \n",
       "9   [Thor, Foster, Thor, Thor, Malekith, Foster, T...   \n",
       "10  [Hela Odinsdottir, Odin, Hela, Thor, Loki, Hel...   \n",
       "11  [Thor, Loki, Loki, Frigga, Thor, Loki, Thor, T...   \n",
       "12       [Thor, Odin, Frigga, Loki, Loki, Thor, Thor]   \n",
       "13  [Thanos, Thor, Hulk, Rocket, Thor, Thor, Thano...   \n",
       "\n",
       "                                       classification  \n",
       "0   [{'label': 'POSITIVE', 'score': 0.987520217895...  \n",
       "1   [{'label': 'POSITIVE', 'score': 0.970530450344...  \n",
       "2   [{'label': 'NEGATIVE', 'score': 0.992479979991...  \n",
       "3   [{'label': 'NEGATIVE', 'score': 0.828045129776...  \n",
       "4   [{'label': 'NEGATIVE', 'score': 0.958619356155...  \n",
       "5   [{'label': 'POSITIVE', 'score': 0.939087033271...  \n",
       "6   [{'label': 'POSITIVE', 'score': 0.996382296085...  \n",
       "7   [{'label': 'POSITIVE', 'score': 0.987600088119...  \n",
       "8   [{'label': 'POSITIVE', 'score': 0.994690060615...  \n",
       "9   [{'label': 'NEGATIVE', 'score': 0.996562004089...  \n",
       "10  [{'label': 'POSITIVE', 'score': 0.995506346225...  \n",
       "11  [{'label': 'POSITIVE', 'score': 0.967410206794...  \n",
       "12  [{'label': 'POSITIVE', 'score': 0.998435795307...  \n",
       "13  [{'label': 'POSITIVE', 'score': 0.774845719337...  "
      ]
     },
     "execution_count": 11,
     "metadata": {},
     "output_type": "execute_result"
    }
   ],
   "source": [
    "data['classification'] = data['Sentences'].apply(lambda x: classifier(x))\n",
    "data"
   ]
  },
  {
   "cell_type": "code",
   "execution_count": 13,
   "id": "575c5865",
   "metadata": {},
   "outputs": [
    {
     "data": {
      "text/html": [
       "<div>\n",
       "<style scoped>\n",
       "    .dataframe tbody tr th:only-of-type {\n",
       "        vertical-align: middle;\n",
       "    }\n",
       "\n",
       "    .dataframe tbody tr th {\n",
       "        vertical-align: top;\n",
       "    }\n",
       "\n",
       "    .dataframe thead th {\n",
       "        text-align: right;\n",
       "    }\n",
       "</style>\n",
       "<table border=\"1\" class=\"dataframe\">\n",
       "  <thead>\n",
       "    <tr style=\"text-align: right;\">\n",
       "      <th></th>\n",
       "      <th>Sentences</th>\n",
       "      <th>entity list</th>\n",
       "      <th>classification</th>\n",
       "      <th>classification label</th>\n",
       "      <th>classification score</th>\n",
       "    </tr>\n",
       "  </thead>\n",
       "  <tbody>\n",
       "    <tr>\n",
       "      <th>0</th>\n",
       "      <td>Thor Odinson is the Asgardian God of Thunder, ...</td>\n",
       "      <td>[Thor Odinson, God of Thunder, Thor, Odin, Tho...</td>\n",
       "      <td>[{'label': 'POSITIVE', 'score': 0.987520217895...</td>\n",
       "      <td>POSITIVE</td>\n",
       "      <td>0.987520</td>\n",
       "    </tr>\n",
       "    <tr>\n",
       "      <th>1</th>\n",
       "      <td>Upon being welcomed back to Asgard as a hero, ...</td>\n",
       "      <td>[Thor, Loki, Thor, Loki, Loki]</td>\n",
       "      <td>[{'label': 'POSITIVE', 'score': 0.970530450344...</td>\n",
       "      <td>POSITIVE</td>\n",
       "      <td>0.970530</td>\n",
       "    </tr>\n",
       "    <tr>\n",
       "      <th>2</th>\n",
       "      <td>Thor returned to Asgard having defeated his br...</td>\n",
       "      <td>[Thor, Thor, Thor, Jane Foster, Thor, Loki, Fo...</td>\n",
       "      <td>[{'label': 'NEGATIVE', 'score': 0.992479979991...</td>\n",
       "      <td>NEGATIVE</td>\n",
       "      <td>0.992480</td>\n",
       "    </tr>\n",
       "    <tr>\n",
       "      <th>3</th>\n",
       "      <td>Loki Laufeyson was the biological son of Laufe...</td>\n",
       "      <td>[Loki Laufeyson, Laufey, Odin, Loki, Frigga, T...</td>\n",
       "      <td>[{'label': 'NEGATIVE', 'score': 0.828045129776...</td>\n",
       "      <td>NEGATIVE</td>\n",
       "      <td>0.828045</td>\n",
       "    </tr>\n",
       "    <tr>\n",
       "      <th>4</th>\n",
       "      <td>Transported by the wormhole to Sanctuary, Loki...</td>\n",
       "      <td>[Loki, The Other, Thanos, Loki, Loki, Thanos, ...</td>\n",
       "      <td>[{'label': 'NEGATIVE', 'score': 0.958619356155...</td>\n",
       "      <td>NEGATIVE</td>\n",
       "      <td>0.958619</td>\n",
       "    </tr>\n",
       "    <tr>\n",
       "      <th>5</th>\n",
       "      <td>Asgard was one of the Nine Realms and the home...</td>\n",
       "      <td>[Thor, Loki, Surtur, Hela]</td>\n",
       "      <td>[{'label': 'POSITIVE', 'score': 0.939087033271...</td>\n",
       "      <td>POSITIVE</td>\n",
       "      <td>0.939087</td>\n",
       "    </tr>\n",
       "    <tr>\n",
       "      <th>6</th>\n",
       "      <td>Mjølnir (\"that which smashes\")[1] was a powerf...</td>\n",
       "      <td>[Hela, Thor, Loki, Thor, Captain America, Than...</td>\n",
       "      <td>[{'label': 'POSITIVE', 'score': 0.996382296085...</td>\n",
       "      <td>POSITIVE</td>\n",
       "      <td>0.996382</td>\n",
       "    </tr>\n",
       "    <tr>\n",
       "      <th>7</th>\n",
       "      <td>Stormbreaker is an enchanted axe used by Thor....</td>\n",
       "      <td>[Thor]</td>\n",
       "      <td>[{'label': 'POSITIVE', 'score': 0.987600088119...</td>\n",
       "      <td>POSITIVE</td>\n",
       "      <td>0.987600</td>\n",
       "    </tr>\n",
       "    <tr>\n",
       "      <th>8</th>\n",
       "      <td>Doctor Jane Foster is one of the world's leadi...</td>\n",
       "      <td>[Jane Foster, Thor, Loki, Loki]</td>\n",
       "      <td>[{'label': 'POSITIVE', 'score': 0.994690060615...</td>\n",
       "      <td>POSITIVE</td>\n",
       "      <td>0.994690</td>\n",
       "    </tr>\n",
       "    <tr>\n",
       "      <th>9</th>\n",
       "      <td>She found out of Thor's return through the foo...</td>\n",
       "      <td>[Thor, Foster, Thor, Thor, Malekith, Foster, T...</td>\n",
       "      <td>[{'label': 'NEGATIVE', 'score': 0.996562004089...</td>\n",
       "      <td>NEGATIVE</td>\n",
       "      <td>0.996562</td>\n",
       "    </tr>\n",
       "    <tr>\n",
       "      <th>10</th>\n",
       "      <td>Hela Odinsdottir was the Asgardian Goddess of ...</td>\n",
       "      <td>[Hela Odinsdottir, Odin, Hela, Thor, Loki, Hel...</td>\n",
       "      <td>[{'label': 'POSITIVE', 'score': 0.995506346225...</td>\n",
       "      <td>POSITIVE</td>\n",
       "      <td>0.995506</td>\n",
       "    </tr>\n",
       "    <tr>\n",
       "      <th>11</th>\n",
       "      <td>As Thor and Loki grew up together, Loki develo...</td>\n",
       "      <td>[Thor, Loki, Loki, Frigga, Thor, Loki, Thor, T...</td>\n",
       "      <td>[{'label': 'POSITIVE', 'score': 0.967410206794...</td>\n",
       "      <td>POSITIVE</td>\n",
       "      <td>0.967410</td>\n",
       "    </tr>\n",
       "    <tr>\n",
       "      <th>12</th>\n",
       "      <td>Thor had an idyllic childhood, brought up in A...</td>\n",
       "      <td>[Thor, Odin, Frigga, Loki, Loki, Thor, Thor]</td>\n",
       "      <td>[{'label': 'POSITIVE', 'score': 0.998435795307...</td>\n",
       "      <td>POSITIVE</td>\n",
       "      <td>0.998436</td>\n",
       "    </tr>\n",
       "    <tr>\n",
       "      <th>13</th>\n",
       "      <td>Following Thanos' death, Thor left the Avenger...</td>\n",
       "      <td>[Thanos, Thor, Hulk, Rocket, Thor, Thor, Thano...</td>\n",
       "      <td>[{'label': 'POSITIVE', 'score': 0.774845719337...</td>\n",
       "      <td>POSITIVE</td>\n",
       "      <td>0.774846</td>\n",
       "    </tr>\n",
       "  </tbody>\n",
       "</table>\n",
       "</div>"
      ],
      "text/plain": [
       "                                            Sentences  \\\n",
       "0   Thor Odinson is the Asgardian God of Thunder, ...   \n",
       "1   Upon being welcomed back to Asgard as a hero, ...   \n",
       "2   Thor returned to Asgard having defeated his br...   \n",
       "3   Loki Laufeyson was the biological son of Laufe...   \n",
       "4   Transported by the wormhole to Sanctuary, Loki...   \n",
       "5   Asgard was one of the Nine Realms and the home...   \n",
       "6   Mjølnir (\"that which smashes\")[1] was a powerf...   \n",
       "7   Stormbreaker is an enchanted axe used by Thor....   \n",
       "8   Doctor Jane Foster is one of the world's leadi...   \n",
       "9   She found out of Thor's return through the foo...   \n",
       "10  Hela Odinsdottir was the Asgardian Goddess of ...   \n",
       "11  As Thor and Loki grew up together, Loki develo...   \n",
       "12  Thor had an idyllic childhood, brought up in A...   \n",
       "13  Following Thanos' death, Thor left the Avenger...   \n",
       "\n",
       "                                          entity list  \\\n",
       "0   [Thor Odinson, God of Thunder, Thor, Odin, Tho...   \n",
       "1                      [Thor, Loki, Thor, Loki, Loki]   \n",
       "2   [Thor, Thor, Thor, Jane Foster, Thor, Loki, Fo...   \n",
       "3   [Loki Laufeyson, Laufey, Odin, Loki, Frigga, T...   \n",
       "4   [Loki, The Other, Thanos, Loki, Loki, Thanos, ...   \n",
       "5                          [Thor, Loki, Surtur, Hela]   \n",
       "6   [Hela, Thor, Loki, Thor, Captain America, Than...   \n",
       "7                                              [Thor]   \n",
       "8                     [Jane Foster, Thor, Loki, Loki]   \n",
       "9   [Thor, Foster, Thor, Thor, Malekith, Foster, T...   \n",
       "10  [Hela Odinsdottir, Odin, Hela, Thor, Loki, Hel...   \n",
       "11  [Thor, Loki, Loki, Frigga, Thor, Loki, Thor, T...   \n",
       "12       [Thor, Odin, Frigga, Loki, Loki, Thor, Thor]   \n",
       "13  [Thanos, Thor, Hulk, Rocket, Thor, Thor, Thano...   \n",
       "\n",
       "                                       classification classification label  \\\n",
       "0   [{'label': 'POSITIVE', 'score': 0.987520217895...             POSITIVE   \n",
       "1   [{'label': 'POSITIVE', 'score': 0.970530450344...             POSITIVE   \n",
       "2   [{'label': 'NEGATIVE', 'score': 0.992479979991...             NEGATIVE   \n",
       "3   [{'label': 'NEGATIVE', 'score': 0.828045129776...             NEGATIVE   \n",
       "4   [{'label': 'NEGATIVE', 'score': 0.958619356155...             NEGATIVE   \n",
       "5   [{'label': 'POSITIVE', 'score': 0.939087033271...             POSITIVE   \n",
       "6   [{'label': 'POSITIVE', 'score': 0.996382296085...             POSITIVE   \n",
       "7   [{'label': 'POSITIVE', 'score': 0.987600088119...             POSITIVE   \n",
       "8   [{'label': 'POSITIVE', 'score': 0.994690060615...             POSITIVE   \n",
       "9   [{'label': 'NEGATIVE', 'score': 0.996562004089...             NEGATIVE   \n",
       "10  [{'label': 'POSITIVE', 'score': 0.995506346225...             POSITIVE   \n",
       "11  [{'label': 'POSITIVE', 'score': 0.967410206794...             POSITIVE   \n",
       "12  [{'label': 'POSITIVE', 'score': 0.998435795307...             POSITIVE   \n",
       "13  [{'label': 'POSITIVE', 'score': 0.774845719337...             POSITIVE   \n",
       "\n",
       "    classification score  \n",
       "0               0.987520  \n",
       "1               0.970530  \n",
       "2               0.992480  \n",
       "3               0.828045  \n",
       "4               0.958619  \n",
       "5               0.939087  \n",
       "6               0.996382  \n",
       "7               0.987600  \n",
       "8               0.994690  \n",
       "9               0.996562  \n",
       "10              0.995506  \n",
       "11              0.967410  \n",
       "12              0.998436  \n",
       "13              0.774846  "
      ]
     },
     "execution_count": 13,
     "metadata": {},
     "output_type": "execute_result"
    }
   ],
   "source": [
    "data['classification label'] = data['classification'].apply(lambda x: x[0]['label'])\n",
    "data['classification score'] = data['classification'].apply(lambda x: x[0]['score'])\n",
    "data"
   ]
  },
  {
   "cell_type": "markdown",
   "id": "fa3835d8",
   "metadata": {},
   "source": [
    "    "
   ]
  },
  {
   "cell_type": "markdown",
   "id": "b972e32a",
   "metadata": {},
   "source": [
    "     "
   ]
  },
  {
   "cell_type": "markdown",
   "id": "ff199163",
   "metadata": {},
   "source": [
    "## 3. Zero Shot Classification"
   ]
  },
  {
   "cell_type": "code",
   "execution_count": 14,
   "id": "884ef56d",
   "metadata": {},
   "outputs": [
    {
     "data": {
      "application/vnd.jupyter.widget-view+json": {
       "model_id": "5713695439f64b6a8d2fb71a09ddeff4",
       "version_major": 2,
       "version_minor": 0
      },
      "text/plain": [
       "Downloading:   0%|          | 0.00/1.15k [00:00<?, ?B/s]"
      ]
     },
     "metadata": {},
     "output_type": "display_data"
    },
    {
     "data": {
      "application/vnd.jupyter.widget-view+json": {
       "model_id": "92a2f06e8a6c49ce86a6e1e462c6aae5",
       "version_major": 2,
       "version_minor": 0
      },
      "text/plain": [
       "Downloading:   0%|          | 0.00/1.63G [00:00<?, ?B/s]"
      ]
     },
     "metadata": {},
     "output_type": "display_data"
    },
    {
     "data": {
      "application/vnd.jupyter.widget-view+json": {
       "model_id": "7d8ec4b6b9514ccd888edf8fa61686ce",
       "version_major": 2,
       "version_minor": 0
      },
      "text/plain": [
       "Downloading:   0%|          | 0.00/899k [00:00<?, ?B/s]"
      ]
     },
     "metadata": {},
     "output_type": "display_data"
    },
    {
     "data": {
      "application/vnd.jupyter.widget-view+json": {
       "model_id": "39d141fabd8d43d6a7939f29d4a0ed2e",
       "version_major": 2,
       "version_minor": 0
      },
      "text/plain": [
       "Downloading:   0%|          | 0.00/456k [00:00<?, ?B/s]"
      ]
     },
     "metadata": {},
     "output_type": "display_data"
    },
    {
     "data": {
      "application/vnd.jupyter.widget-view+json": {
       "model_id": "e05bb3bdde3540c592c38d6a65172f78",
       "version_major": 2,
       "version_minor": 0
      },
      "text/plain": [
       "Downloading:   0%|          | 0.00/1.36M [00:00<?, ?B/s]"
      ]
     },
     "metadata": {},
     "output_type": "display_data"
    },
    {
     "data": {
      "application/vnd.jupyter.widget-view+json": {
       "model_id": "896b3c22c8c6465e8c309b0e49792ff1",
       "version_major": 2,
       "version_minor": 0
      },
      "text/plain": [
       "Downloading:   0%|          | 0.00/26.0 [00:00<?, ?B/s]"
      ]
     },
     "metadata": {},
     "output_type": "display_data"
    }
   ],
   "source": [
    "from transformers import pipeline\n",
    "classifier = pipeline(\"zero-shot-classification\",\n",
    "                      model=\"facebook/bart-large-mnli\")"
   ]
  },
  {
   "cell_type": "markdown",
   "id": "3e529a0c",
   "metadata": {},
   "source": [
    "Single sentence"
   ]
  },
  {
   "cell_type": "code",
   "execution_count": 15,
   "id": "1be5f28b",
   "metadata": {},
   "outputs": [],
   "source": [
    "sequence_to_classify = \"one day I will see the world\"\n",
    "candidate_labels = ['travel', 'cooking', 'dancing']"
   ]
  },
  {
   "cell_type": "code",
   "execution_count": 17,
   "id": "7411d9a5",
   "metadata": {},
   "outputs": [
    {
     "data": {
      "text/plain": [
       "{'sequence': 'one day I will see the world',\n",
       " 'labels': ['travel', 'dancing', 'cooking'],\n",
       " 'scores': [0.9938651323318481, 0.0032737781293690205, 0.0028610320296138525]}"
      ]
     },
     "execution_count": 17,
     "metadata": {},
     "output_type": "execute_result"
    }
   ],
   "source": [
    "zero_shot_out = classifier(sequence_to_classify, candidate_labels)\n",
    "zero_shot_out"
   ]
  },
  {
   "cell_type": "markdown",
   "id": "9dcc57e1",
   "metadata": {},
   "source": [
    "Executing on a batch or dataframe"
   ]
  },
  {
   "cell_type": "code",
   "execution_count": 19,
   "id": "a410ab61",
   "metadata": {},
   "outputs": [
    {
     "data": {
      "text/html": [
       "<div>\n",
       "<style scoped>\n",
       "    .dataframe tbody tr th:only-of-type {\n",
       "        vertical-align: middle;\n",
       "    }\n",
       "\n",
       "    .dataframe tbody tr th {\n",
       "        vertical-align: top;\n",
       "    }\n",
       "\n",
       "    .dataframe thead th {\n",
       "        text-align: right;\n",
       "    }\n",
       "</style>\n",
       "<table border=\"1\" class=\"dataframe\">\n",
       "  <thead>\n",
       "    <tr style=\"text-align: right;\">\n",
       "      <th></th>\n",
       "      <th>Sentences</th>\n",
       "      <th>entity list</th>\n",
       "      <th>classification</th>\n",
       "      <th>classification label</th>\n",
       "      <th>classification score</th>\n",
       "      <th>zero shot classification</th>\n",
       "    </tr>\n",
       "  </thead>\n",
       "  <tbody>\n",
       "    <tr>\n",
       "      <th>0</th>\n",
       "      <td>Thor Odinson is the Asgardian God of Thunder, ...</td>\n",
       "      <td>[Thor Odinson, God of Thunder, Thor, Odin, Tho...</td>\n",
       "      <td>[{'label': 'POSITIVE', 'score': 0.987520217895...</td>\n",
       "      <td>POSITIVE</td>\n",
       "      <td>0.987520</td>\n",
       "      <td>{'sequence': 'Thor Odinson is the Asgardian Go...</td>\n",
       "    </tr>\n",
       "    <tr>\n",
       "      <th>1</th>\n",
       "      <td>Upon being welcomed back to Asgard as a hero, ...</td>\n",
       "      <td>[Thor, Loki, Thor, Loki, Loki]</td>\n",
       "      <td>[{'label': 'POSITIVE', 'score': 0.970530450344...</td>\n",
       "      <td>POSITIVE</td>\n",
       "      <td>0.970530</td>\n",
       "      <td>{'sequence': 'Upon being welcomed back to Asga...</td>\n",
       "    </tr>\n",
       "    <tr>\n",
       "      <th>2</th>\n",
       "      <td>Thor returned to Asgard having defeated his br...</td>\n",
       "      <td>[Thor, Thor, Thor, Jane Foster, Thor, Loki, Fo...</td>\n",
       "      <td>[{'label': 'NEGATIVE', 'score': 0.992479979991...</td>\n",
       "      <td>NEGATIVE</td>\n",
       "      <td>0.992480</td>\n",
       "      <td>{'sequence': 'Thor returned to Asgard having d...</td>\n",
       "    </tr>\n",
       "    <tr>\n",
       "      <th>3</th>\n",
       "      <td>Loki Laufeyson was the biological son of Laufe...</td>\n",
       "      <td>[Loki Laufeyson, Laufey, Odin, Loki, Frigga, T...</td>\n",
       "      <td>[{'label': 'NEGATIVE', 'score': 0.828045129776...</td>\n",
       "      <td>NEGATIVE</td>\n",
       "      <td>0.828045</td>\n",
       "      <td>{'sequence': 'Loki Laufeyson was the biologica...</td>\n",
       "    </tr>\n",
       "    <tr>\n",
       "      <th>4</th>\n",
       "      <td>Transported by the wormhole to Sanctuary, Loki...</td>\n",
       "      <td>[Loki, The Other, Thanos, Loki, Loki, Thanos, ...</td>\n",
       "      <td>[{'label': 'NEGATIVE', 'score': 0.958619356155...</td>\n",
       "      <td>NEGATIVE</td>\n",
       "      <td>0.958619</td>\n",
       "      <td>{'sequence': 'Transported by the wormhole to S...</td>\n",
       "    </tr>\n",
       "    <tr>\n",
       "      <th>5</th>\n",
       "      <td>Asgard was one of the Nine Realms and the home...</td>\n",
       "      <td>[Thor, Loki, Surtur, Hela]</td>\n",
       "      <td>[{'label': 'POSITIVE', 'score': 0.939087033271...</td>\n",
       "      <td>POSITIVE</td>\n",
       "      <td>0.939087</td>\n",
       "      <td>{'sequence': 'Asgard was one of the Nine Realm...</td>\n",
       "    </tr>\n",
       "    <tr>\n",
       "      <th>6</th>\n",
       "      <td>Mjølnir (\"that which smashes\")[1] was a powerf...</td>\n",
       "      <td>[Hela, Thor, Loki, Thor, Captain America, Than...</td>\n",
       "      <td>[{'label': 'POSITIVE', 'score': 0.996382296085...</td>\n",
       "      <td>POSITIVE</td>\n",
       "      <td>0.996382</td>\n",
       "      <td>{'sequence': 'Mjølnir (\"that which smashes\")[1...</td>\n",
       "    </tr>\n",
       "    <tr>\n",
       "      <th>7</th>\n",
       "      <td>Stormbreaker is an enchanted axe used by Thor....</td>\n",
       "      <td>[Thor]</td>\n",
       "      <td>[{'label': 'POSITIVE', 'score': 0.987600088119...</td>\n",
       "      <td>POSITIVE</td>\n",
       "      <td>0.987600</td>\n",
       "      <td>{'sequence': 'Stormbreaker is an enchanted axe...</td>\n",
       "    </tr>\n",
       "    <tr>\n",
       "      <th>8</th>\n",
       "      <td>Doctor Jane Foster is one of the world's leadi...</td>\n",
       "      <td>[Jane Foster, Thor, Loki, Loki]</td>\n",
       "      <td>[{'label': 'POSITIVE', 'score': 0.994690060615...</td>\n",
       "      <td>POSITIVE</td>\n",
       "      <td>0.994690</td>\n",
       "      <td>{'sequence': 'Doctor Jane Foster is one of the...</td>\n",
       "    </tr>\n",
       "    <tr>\n",
       "      <th>9</th>\n",
       "      <td>She found out of Thor's return through the foo...</td>\n",
       "      <td>[Thor, Foster, Thor, Thor, Malekith, Foster, T...</td>\n",
       "      <td>[{'label': 'NEGATIVE', 'score': 0.996562004089...</td>\n",
       "      <td>NEGATIVE</td>\n",
       "      <td>0.996562</td>\n",
       "      <td>{'sequence': 'She found out of Thor's return t...</td>\n",
       "    </tr>\n",
       "    <tr>\n",
       "      <th>10</th>\n",
       "      <td>Hela Odinsdottir was the Asgardian Goddess of ...</td>\n",
       "      <td>[Hela Odinsdottir, Odin, Hela, Thor, Loki, Hel...</td>\n",
       "      <td>[{'label': 'POSITIVE', 'score': 0.995506346225...</td>\n",
       "      <td>POSITIVE</td>\n",
       "      <td>0.995506</td>\n",
       "      <td>{'sequence': 'Hela Odinsdottir was the Asgardi...</td>\n",
       "    </tr>\n",
       "    <tr>\n",
       "      <th>11</th>\n",
       "      <td>As Thor and Loki grew up together, Loki develo...</td>\n",
       "      <td>[Thor, Loki, Loki, Frigga, Thor, Loki, Thor, T...</td>\n",
       "      <td>[{'label': 'POSITIVE', 'score': 0.967410206794...</td>\n",
       "      <td>POSITIVE</td>\n",
       "      <td>0.967410</td>\n",
       "      <td>{'sequence': 'As Thor and Loki grew up togethe...</td>\n",
       "    </tr>\n",
       "    <tr>\n",
       "      <th>12</th>\n",
       "      <td>Thor had an idyllic childhood, brought up in A...</td>\n",
       "      <td>[Thor, Odin, Frigga, Loki, Loki, Thor, Thor]</td>\n",
       "      <td>[{'label': 'POSITIVE', 'score': 0.998435795307...</td>\n",
       "      <td>POSITIVE</td>\n",
       "      <td>0.998436</td>\n",
       "      <td>{'sequence': 'Thor had an idyllic childhood, b...</td>\n",
       "    </tr>\n",
       "    <tr>\n",
       "      <th>13</th>\n",
       "      <td>Following Thanos' death, Thor left the Avenger...</td>\n",
       "      <td>[Thanos, Thor, Hulk, Rocket, Thor, Thor, Thano...</td>\n",
       "      <td>[{'label': 'POSITIVE', 'score': 0.774845719337...</td>\n",
       "      <td>POSITIVE</td>\n",
       "      <td>0.774846</td>\n",
       "      <td>{'sequence': 'Following Thanos' death, Thor le...</td>\n",
       "    </tr>\n",
       "  </tbody>\n",
       "</table>\n",
       "</div>"
      ],
      "text/plain": [
       "                                            Sentences  \\\n",
       "0   Thor Odinson is the Asgardian God of Thunder, ...   \n",
       "1   Upon being welcomed back to Asgard as a hero, ...   \n",
       "2   Thor returned to Asgard having defeated his br...   \n",
       "3   Loki Laufeyson was the biological son of Laufe...   \n",
       "4   Transported by the wormhole to Sanctuary, Loki...   \n",
       "5   Asgard was one of the Nine Realms and the home...   \n",
       "6   Mjølnir (\"that which smashes\")[1] was a powerf...   \n",
       "7   Stormbreaker is an enchanted axe used by Thor....   \n",
       "8   Doctor Jane Foster is one of the world's leadi...   \n",
       "9   She found out of Thor's return through the foo...   \n",
       "10  Hela Odinsdottir was the Asgardian Goddess of ...   \n",
       "11  As Thor and Loki grew up together, Loki develo...   \n",
       "12  Thor had an idyllic childhood, brought up in A...   \n",
       "13  Following Thanos' death, Thor left the Avenger...   \n",
       "\n",
       "                                          entity list  \\\n",
       "0   [Thor Odinson, God of Thunder, Thor, Odin, Tho...   \n",
       "1                      [Thor, Loki, Thor, Loki, Loki]   \n",
       "2   [Thor, Thor, Thor, Jane Foster, Thor, Loki, Fo...   \n",
       "3   [Loki Laufeyson, Laufey, Odin, Loki, Frigga, T...   \n",
       "4   [Loki, The Other, Thanos, Loki, Loki, Thanos, ...   \n",
       "5                          [Thor, Loki, Surtur, Hela]   \n",
       "6   [Hela, Thor, Loki, Thor, Captain America, Than...   \n",
       "7                                              [Thor]   \n",
       "8                     [Jane Foster, Thor, Loki, Loki]   \n",
       "9   [Thor, Foster, Thor, Thor, Malekith, Foster, T...   \n",
       "10  [Hela Odinsdottir, Odin, Hela, Thor, Loki, Hel...   \n",
       "11  [Thor, Loki, Loki, Frigga, Thor, Loki, Thor, T...   \n",
       "12       [Thor, Odin, Frigga, Loki, Loki, Thor, Thor]   \n",
       "13  [Thanos, Thor, Hulk, Rocket, Thor, Thor, Thano...   \n",
       "\n",
       "                                       classification classification label  \\\n",
       "0   [{'label': 'POSITIVE', 'score': 0.987520217895...             POSITIVE   \n",
       "1   [{'label': 'POSITIVE', 'score': 0.970530450344...             POSITIVE   \n",
       "2   [{'label': 'NEGATIVE', 'score': 0.992479979991...             NEGATIVE   \n",
       "3   [{'label': 'NEGATIVE', 'score': 0.828045129776...             NEGATIVE   \n",
       "4   [{'label': 'NEGATIVE', 'score': 0.958619356155...             NEGATIVE   \n",
       "5   [{'label': 'POSITIVE', 'score': 0.939087033271...             POSITIVE   \n",
       "6   [{'label': 'POSITIVE', 'score': 0.996382296085...             POSITIVE   \n",
       "7   [{'label': 'POSITIVE', 'score': 0.987600088119...             POSITIVE   \n",
       "8   [{'label': 'POSITIVE', 'score': 0.994690060615...             POSITIVE   \n",
       "9   [{'label': 'NEGATIVE', 'score': 0.996562004089...             NEGATIVE   \n",
       "10  [{'label': 'POSITIVE', 'score': 0.995506346225...             POSITIVE   \n",
       "11  [{'label': 'POSITIVE', 'score': 0.967410206794...             POSITIVE   \n",
       "12  [{'label': 'POSITIVE', 'score': 0.998435795307...             POSITIVE   \n",
       "13  [{'label': 'POSITIVE', 'score': 0.774845719337...             POSITIVE   \n",
       "\n",
       "    classification score                           zero shot classification  \n",
       "0               0.987520  {'sequence': 'Thor Odinson is the Asgardian Go...  \n",
       "1               0.970530  {'sequence': 'Upon being welcomed back to Asga...  \n",
       "2               0.992480  {'sequence': 'Thor returned to Asgard having d...  \n",
       "3               0.828045  {'sequence': 'Loki Laufeyson was the biologica...  \n",
       "4               0.958619  {'sequence': 'Transported by the wormhole to S...  \n",
       "5               0.939087  {'sequence': 'Asgard was one of the Nine Realm...  \n",
       "6               0.996382  {'sequence': 'Mjølnir (\"that which smashes\")[1...  \n",
       "7               0.987600  {'sequence': 'Stormbreaker is an enchanted axe...  \n",
       "8               0.994690  {'sequence': 'Doctor Jane Foster is one of the...  \n",
       "9               0.996562  {'sequence': 'She found out of Thor's return t...  \n",
       "10              0.995506  {'sequence': 'Hela Odinsdottir was the Asgardi...  \n",
       "11              0.967410  {'sequence': 'As Thor and Loki grew up togethe...  \n",
       "12              0.998436  {'sequence': 'Thor had an idyllic childhood, b...  \n",
       "13              0.774846  {'sequence': 'Following Thanos' death, Thor le...  "
      ]
     },
     "execution_count": 19,
     "metadata": {},
     "output_type": "execute_result"
    }
   ],
   "source": [
    "candidate_labels = ['comics', 'nature', 'warrior']\n",
    "data['zero shot classification'] = data['Sentences'].apply(lambda x: classifier(x, candidate_labels))\n",
    "data"
   ]
  },
  {
   "cell_type": "code",
   "execution_count": 20,
   "id": "b120cace",
   "metadata": {},
   "outputs": [
    {
     "data": {
      "text/html": [
       "<div>\n",
       "<style scoped>\n",
       "    .dataframe tbody tr th:only-of-type {\n",
       "        vertical-align: middle;\n",
       "    }\n",
       "\n",
       "    .dataframe tbody tr th {\n",
       "        vertical-align: top;\n",
       "    }\n",
       "\n",
       "    .dataframe thead th {\n",
       "        text-align: right;\n",
       "    }\n",
       "</style>\n",
       "<table border=\"1\" class=\"dataframe\">\n",
       "  <thead>\n",
       "    <tr style=\"text-align: right;\">\n",
       "      <th></th>\n",
       "      <th>Sentences</th>\n",
       "      <th>entity list</th>\n",
       "      <th>classification</th>\n",
       "      <th>classification label</th>\n",
       "      <th>classification score</th>\n",
       "      <th>zero shot classification</th>\n",
       "      <th>zero shot classification label</th>\n",
       "      <th>zero shot classification score</th>\n",
       "    </tr>\n",
       "  </thead>\n",
       "  <tbody>\n",
       "    <tr>\n",
       "      <th>0</th>\n",
       "      <td>Thor Odinson is the Asgardian God of Thunder, ...</td>\n",
       "      <td>[Thor Odinson, God of Thunder, Thor, Odin, Tho...</td>\n",
       "      <td>[{'label': 'POSITIVE', 'score': 0.987520217895...</td>\n",
       "      <td>POSITIVE</td>\n",
       "      <td>0.987520</td>\n",
       "      <td>{'sequence': 'Thor Odinson is the Asgardian Go...</td>\n",
       "      <td>[warrior, nature, comics]</td>\n",
       "      <td>[0.9035865664482117, 0.053326088935136795, 0.0...</td>\n",
       "    </tr>\n",
       "    <tr>\n",
       "      <th>1</th>\n",
       "      <td>Upon being welcomed back to Asgard as a hero, ...</td>\n",
       "      <td>[Thor, Loki, Thor, Loki, Loki]</td>\n",
       "      <td>[{'label': 'POSITIVE', 'score': 0.970530450344...</td>\n",
       "      <td>POSITIVE</td>\n",
       "      <td>0.970530</td>\n",
       "      <td>{'sequence': 'Upon being welcomed back to Asga...</td>\n",
       "      <td>[warrior, comics, nature]</td>\n",
       "      <td>[0.872516393661499, 0.06743672490119934, 0.060...</td>\n",
       "    </tr>\n",
       "    <tr>\n",
       "      <th>2</th>\n",
       "      <td>Thor returned to Asgard having defeated his br...</td>\n",
       "      <td>[Thor, Thor, Thor, Jane Foster, Thor, Loki, Fo...</td>\n",
       "      <td>[{'label': 'NEGATIVE', 'score': 0.992479979991...</td>\n",
       "      <td>NEGATIVE</td>\n",
       "      <td>0.992480</td>\n",
       "      <td>{'sequence': 'Thor returned to Asgard having d...</td>\n",
       "      <td>[warrior, nature, comics]</td>\n",
       "      <td>[0.850460946559906, 0.11994372308254242, 0.029...</td>\n",
       "    </tr>\n",
       "    <tr>\n",
       "      <th>3</th>\n",
       "      <td>Loki Laufeyson was the biological son of Laufe...</td>\n",
       "      <td>[Loki Laufeyson, Laufey, Odin, Loki, Frigga, T...</td>\n",
       "      <td>[{'label': 'NEGATIVE', 'score': 0.828045129776...</td>\n",
       "      <td>NEGATIVE</td>\n",
       "      <td>0.828045</td>\n",
       "      <td>{'sequence': 'Loki Laufeyson was the biologica...</td>\n",
       "      <td>[warrior, nature, comics]</td>\n",
       "      <td>[0.7911844849586487, 0.16940189898014069, 0.03...</td>\n",
       "    </tr>\n",
       "    <tr>\n",
       "      <th>4</th>\n",
       "      <td>Transported by the wormhole to Sanctuary, Loki...</td>\n",
       "      <td>[Loki, The Other, Thanos, Loki, Loki, Thanos, ...</td>\n",
       "      <td>[{'label': 'NEGATIVE', 'score': 0.958619356155...</td>\n",
       "      <td>NEGATIVE</td>\n",
       "      <td>0.958619</td>\n",
       "      <td>{'sequence': 'Transported by the wormhole to S...</td>\n",
       "      <td>[warrior, nature, comics]</td>\n",
       "      <td>[0.7974494099617004, 0.11554315686225891, 0.08...</td>\n",
       "    </tr>\n",
       "    <tr>\n",
       "      <th>5</th>\n",
       "      <td>Asgard was one of the Nine Realms and the home...</td>\n",
       "      <td>[Thor, Loki, Surtur, Hela]</td>\n",
       "      <td>[{'label': 'POSITIVE', 'score': 0.939087033271...</td>\n",
       "      <td>POSITIVE</td>\n",
       "      <td>0.939087</td>\n",
       "      <td>{'sequence': 'Asgard was one of the Nine Realm...</td>\n",
       "      <td>[warrior, nature, comics]</td>\n",
       "      <td>[0.5355643033981323, 0.4095378518104553, 0.054...</td>\n",
       "    </tr>\n",
       "    <tr>\n",
       "      <th>6</th>\n",
       "      <td>Mjølnir (\"that which smashes\")[1] was a powerf...</td>\n",
       "      <td>[Hela, Thor, Loki, Thor, Captain America, Than...</td>\n",
       "      <td>[{'label': 'POSITIVE', 'score': 0.996382296085...</td>\n",
       "      <td>POSITIVE</td>\n",
       "      <td>0.996382</td>\n",
       "      <td>{'sequence': 'Mjølnir (\"that which smashes\")[1...</td>\n",
       "      <td>[warrior, nature, comics]</td>\n",
       "      <td>[0.7085233330726624, 0.20401310920715332, 0.08...</td>\n",
       "    </tr>\n",
       "    <tr>\n",
       "      <th>7</th>\n",
       "      <td>Stormbreaker is an enchanted axe used by Thor....</td>\n",
       "      <td>[Thor]</td>\n",
       "      <td>[{'label': 'POSITIVE', 'score': 0.987600088119...</td>\n",
       "      <td>POSITIVE</td>\n",
       "      <td>0.987600</td>\n",
       "      <td>{'sequence': 'Stormbreaker is an enchanted axe...</td>\n",
       "      <td>[warrior, nature, comics]</td>\n",
       "      <td>[0.6454160809516907, 0.2828575670719147, 0.071...</td>\n",
       "    </tr>\n",
       "    <tr>\n",
       "      <th>8</th>\n",
       "      <td>Doctor Jane Foster is one of the world's leadi...</td>\n",
       "      <td>[Jane Foster, Thor, Loki, Loki]</td>\n",
       "      <td>[{'label': 'POSITIVE', 'score': 0.994690060615...</td>\n",
       "      <td>POSITIVE</td>\n",
       "      <td>0.994690</td>\n",
       "      <td>{'sequence': 'Doctor Jane Foster is one of the...</td>\n",
       "      <td>[warrior, nature, comics]</td>\n",
       "      <td>[0.7060877680778503, 0.18263615667819977, 0.11...</td>\n",
       "    </tr>\n",
       "    <tr>\n",
       "      <th>9</th>\n",
       "      <td>She found out of Thor's return through the foo...</td>\n",
       "      <td>[Thor, Foster, Thor, Thor, Malekith, Foster, T...</td>\n",
       "      <td>[{'label': 'NEGATIVE', 'score': 0.996562004089...</td>\n",
       "      <td>NEGATIVE</td>\n",
       "      <td>0.996562</td>\n",
       "      <td>{'sequence': 'She found out of Thor's return t...</td>\n",
       "      <td>[warrior, nature, comics]</td>\n",
       "      <td>[0.7804948687553406, 0.12850791215896606, 0.09...</td>\n",
       "    </tr>\n",
       "    <tr>\n",
       "      <th>10</th>\n",
       "      <td>Hela Odinsdottir was the Asgardian Goddess of ...</td>\n",
       "      <td>[Hela Odinsdottir, Odin, Hela, Thor, Loki, Hel...</td>\n",
       "      <td>[{'label': 'POSITIVE', 'score': 0.995506346225...</td>\n",
       "      <td>POSITIVE</td>\n",
       "      <td>0.995506</td>\n",
       "      <td>{'sequence': 'Hela Odinsdottir was the Asgardi...</td>\n",
       "      <td>[warrior, nature, comics]</td>\n",
       "      <td>[0.8117573261260986, 0.1583908200263977, 0.029...</td>\n",
       "    </tr>\n",
       "    <tr>\n",
       "      <th>11</th>\n",
       "      <td>As Thor and Loki grew up together, Loki develo...</td>\n",
       "      <td>[Thor, Loki, Loki, Frigga, Thor, Loki, Thor, T...</td>\n",
       "      <td>[{'label': 'POSITIVE', 'score': 0.967410206794...</td>\n",
       "      <td>POSITIVE</td>\n",
       "      <td>0.967410</td>\n",
       "      <td>{'sequence': 'As Thor and Loki grew up togethe...</td>\n",
       "      <td>[warrior, nature, comics]</td>\n",
       "      <td>[0.7361747622489929, 0.21445290744304657, 0.04...</td>\n",
       "    </tr>\n",
       "    <tr>\n",
       "      <th>12</th>\n",
       "      <td>Thor had an idyllic childhood, brought up in A...</td>\n",
       "      <td>[Thor, Odin, Frigga, Loki, Loki, Thor, Thor]</td>\n",
       "      <td>[{'label': 'POSITIVE', 'score': 0.998435795307...</td>\n",
       "      <td>POSITIVE</td>\n",
       "      <td>0.998436</td>\n",
       "      <td>{'sequence': 'Thor had an idyllic childhood, b...</td>\n",
       "      <td>[warrior, nature, comics]</td>\n",
       "      <td>[0.9619292616844177, 0.02847500704228878, 0.00...</td>\n",
       "    </tr>\n",
       "    <tr>\n",
       "      <th>13</th>\n",
       "      <td>Following Thanos' death, Thor left the Avenger...</td>\n",
       "      <td>[Thanos, Thor, Hulk, Rocket, Thor, Thor, Thano...</td>\n",
       "      <td>[{'label': 'POSITIVE', 'score': 0.774845719337...</td>\n",
       "      <td>POSITIVE</td>\n",
       "      <td>0.774846</td>\n",
       "      <td>{'sequence': 'Following Thanos' death, Thor le...</td>\n",
       "      <td>[warrior, nature, comics]</td>\n",
       "      <td>[0.7703871726989746, 0.14476510882377625, 0.08...</td>\n",
       "    </tr>\n",
       "  </tbody>\n",
       "</table>\n",
       "</div>"
      ],
      "text/plain": [
       "                                            Sentences  \\\n",
       "0   Thor Odinson is the Asgardian God of Thunder, ...   \n",
       "1   Upon being welcomed back to Asgard as a hero, ...   \n",
       "2   Thor returned to Asgard having defeated his br...   \n",
       "3   Loki Laufeyson was the biological son of Laufe...   \n",
       "4   Transported by the wormhole to Sanctuary, Loki...   \n",
       "5   Asgard was one of the Nine Realms and the home...   \n",
       "6   Mjølnir (\"that which smashes\")[1] was a powerf...   \n",
       "7   Stormbreaker is an enchanted axe used by Thor....   \n",
       "8   Doctor Jane Foster is one of the world's leadi...   \n",
       "9   She found out of Thor's return through the foo...   \n",
       "10  Hela Odinsdottir was the Asgardian Goddess of ...   \n",
       "11  As Thor and Loki grew up together, Loki develo...   \n",
       "12  Thor had an idyllic childhood, brought up in A...   \n",
       "13  Following Thanos' death, Thor left the Avenger...   \n",
       "\n",
       "                                          entity list  \\\n",
       "0   [Thor Odinson, God of Thunder, Thor, Odin, Tho...   \n",
       "1                      [Thor, Loki, Thor, Loki, Loki]   \n",
       "2   [Thor, Thor, Thor, Jane Foster, Thor, Loki, Fo...   \n",
       "3   [Loki Laufeyson, Laufey, Odin, Loki, Frigga, T...   \n",
       "4   [Loki, The Other, Thanos, Loki, Loki, Thanos, ...   \n",
       "5                          [Thor, Loki, Surtur, Hela]   \n",
       "6   [Hela, Thor, Loki, Thor, Captain America, Than...   \n",
       "7                                              [Thor]   \n",
       "8                     [Jane Foster, Thor, Loki, Loki]   \n",
       "9   [Thor, Foster, Thor, Thor, Malekith, Foster, T...   \n",
       "10  [Hela Odinsdottir, Odin, Hela, Thor, Loki, Hel...   \n",
       "11  [Thor, Loki, Loki, Frigga, Thor, Loki, Thor, T...   \n",
       "12       [Thor, Odin, Frigga, Loki, Loki, Thor, Thor]   \n",
       "13  [Thanos, Thor, Hulk, Rocket, Thor, Thor, Thano...   \n",
       "\n",
       "                                       classification classification label  \\\n",
       "0   [{'label': 'POSITIVE', 'score': 0.987520217895...             POSITIVE   \n",
       "1   [{'label': 'POSITIVE', 'score': 0.970530450344...             POSITIVE   \n",
       "2   [{'label': 'NEGATIVE', 'score': 0.992479979991...             NEGATIVE   \n",
       "3   [{'label': 'NEGATIVE', 'score': 0.828045129776...             NEGATIVE   \n",
       "4   [{'label': 'NEGATIVE', 'score': 0.958619356155...             NEGATIVE   \n",
       "5   [{'label': 'POSITIVE', 'score': 0.939087033271...             POSITIVE   \n",
       "6   [{'label': 'POSITIVE', 'score': 0.996382296085...             POSITIVE   \n",
       "7   [{'label': 'POSITIVE', 'score': 0.987600088119...             POSITIVE   \n",
       "8   [{'label': 'POSITIVE', 'score': 0.994690060615...             POSITIVE   \n",
       "9   [{'label': 'NEGATIVE', 'score': 0.996562004089...             NEGATIVE   \n",
       "10  [{'label': 'POSITIVE', 'score': 0.995506346225...             POSITIVE   \n",
       "11  [{'label': 'POSITIVE', 'score': 0.967410206794...             POSITIVE   \n",
       "12  [{'label': 'POSITIVE', 'score': 0.998435795307...             POSITIVE   \n",
       "13  [{'label': 'POSITIVE', 'score': 0.774845719337...             POSITIVE   \n",
       "\n",
       "    classification score                           zero shot classification  \\\n",
       "0               0.987520  {'sequence': 'Thor Odinson is the Asgardian Go...   \n",
       "1               0.970530  {'sequence': 'Upon being welcomed back to Asga...   \n",
       "2               0.992480  {'sequence': 'Thor returned to Asgard having d...   \n",
       "3               0.828045  {'sequence': 'Loki Laufeyson was the biologica...   \n",
       "4               0.958619  {'sequence': 'Transported by the wormhole to S...   \n",
       "5               0.939087  {'sequence': 'Asgard was one of the Nine Realm...   \n",
       "6               0.996382  {'sequence': 'Mjølnir (\"that which smashes\")[1...   \n",
       "7               0.987600  {'sequence': 'Stormbreaker is an enchanted axe...   \n",
       "8               0.994690  {'sequence': 'Doctor Jane Foster is one of the...   \n",
       "9               0.996562  {'sequence': 'She found out of Thor's return t...   \n",
       "10              0.995506  {'sequence': 'Hela Odinsdottir was the Asgardi...   \n",
       "11              0.967410  {'sequence': 'As Thor and Loki grew up togethe...   \n",
       "12              0.998436  {'sequence': 'Thor had an idyllic childhood, b...   \n",
       "13              0.774846  {'sequence': 'Following Thanos' death, Thor le...   \n",
       "\n",
       "   zero shot classification label  \\\n",
       "0       [warrior, nature, comics]   \n",
       "1       [warrior, comics, nature]   \n",
       "2       [warrior, nature, comics]   \n",
       "3       [warrior, nature, comics]   \n",
       "4       [warrior, nature, comics]   \n",
       "5       [warrior, nature, comics]   \n",
       "6       [warrior, nature, comics]   \n",
       "7       [warrior, nature, comics]   \n",
       "8       [warrior, nature, comics]   \n",
       "9       [warrior, nature, comics]   \n",
       "10      [warrior, nature, comics]   \n",
       "11      [warrior, nature, comics]   \n",
       "12      [warrior, nature, comics]   \n",
       "13      [warrior, nature, comics]   \n",
       "\n",
       "                       zero shot classification score  \n",
       "0   [0.9035865664482117, 0.053326088935136795, 0.0...  \n",
       "1   [0.872516393661499, 0.06743672490119934, 0.060...  \n",
       "2   [0.850460946559906, 0.11994372308254242, 0.029...  \n",
       "3   [0.7911844849586487, 0.16940189898014069, 0.03...  \n",
       "4   [0.7974494099617004, 0.11554315686225891, 0.08...  \n",
       "5   [0.5355643033981323, 0.4095378518104553, 0.054...  \n",
       "6   [0.7085233330726624, 0.20401310920715332, 0.08...  \n",
       "7   [0.6454160809516907, 0.2828575670719147, 0.071...  \n",
       "8   [0.7060877680778503, 0.18263615667819977, 0.11...  \n",
       "9   [0.7804948687553406, 0.12850791215896606, 0.09...  \n",
       "10  [0.8117573261260986, 0.1583908200263977, 0.029...  \n",
       "11  [0.7361747622489929, 0.21445290744304657, 0.04...  \n",
       "12  [0.9619292616844177, 0.02847500704228878, 0.00...  \n",
       "13  [0.7703871726989746, 0.14476510882377625, 0.08...  "
      ]
     },
     "execution_count": 20,
     "metadata": {},
     "output_type": "execute_result"
    }
   ],
   "source": [
    "data['zero shot classification label'] = data['zero shot classification'].apply(lambda x: x['labels'])\n",
    "data['zero shot classification score'] = data['zero shot classification'].apply(lambda x: x['scores'])\n",
    "data"
   ]
  },
  {
   "cell_type": "markdown",
   "id": "455823da",
   "metadata": {},
   "source": [
    "   "
   ]
  },
  {
   "cell_type": "markdown",
   "id": "9048d67d",
   "metadata": {},
   "source": [
    "    "
   ]
  },
  {
   "cell_type": "markdown",
   "id": "ae8d2dd6",
   "metadata": {},
   "source": [
    "## 4. Question Answering"
   ]
  },
  {
   "cell_type": "code",
   "execution_count": 28,
   "id": "6e351b91",
   "metadata": {},
   "outputs": [
    {
     "data": {
      "application/vnd.jupyter.widget-view+json": {
       "model_id": "85a8440fc8f84b6898c7b61ea2e45600",
       "version_major": 2,
       "version_minor": 0
      },
      "text/plain": [
       "Downloading:   0%|          | 0.00/473 [00:00<?, ?B/s]"
      ]
     },
     "metadata": {},
     "output_type": "display_data"
    },
    {
     "data": {
      "application/vnd.jupyter.widget-view+json": {
       "model_id": "5a1c3f5b6c074e0ea2d1679cfd52b6e7",
       "version_major": 2,
       "version_minor": 0
      },
      "text/plain": [
       "Downloading:   0%|          | 0.00/261M [00:00<?, ?B/s]"
      ]
     },
     "metadata": {},
     "output_type": "display_data"
    },
    {
     "data": {
      "application/vnd.jupyter.widget-view+json": {
       "model_id": "6d25a2afdd734d4b9cbba87e60ad162e",
       "version_major": 2,
       "version_minor": 0
      },
      "text/plain": [
       "Downloading:   0%|          | 0.00/213k [00:00<?, ?B/s]"
      ]
     },
     "metadata": {},
     "output_type": "display_data"
    },
    {
     "data": {
      "application/vnd.jupyter.widget-view+json": {
       "model_id": "929979318f3e476ab4156dbcfaa1e900",
       "version_major": 2,
       "version_minor": 0
      },
      "text/plain": [
       "Downloading:   0%|          | 0.00/436k [00:00<?, ?B/s]"
      ]
     },
     "metadata": {},
     "output_type": "display_data"
    },
    {
     "data": {
      "application/vnd.jupyter.widget-view+json": {
       "model_id": "9f599ac40fe1446eb00a14ba2773c6d1",
       "version_major": 2,
       "version_minor": 0
      },
      "text/plain": [
       "Downloading:   0%|          | 0.00/29.0 [00:00<?, ?B/s]"
      ]
     },
     "metadata": {},
     "output_type": "display_data"
    }
   ],
   "source": [
    "from transformers import AutoModelForQuestionAnswering, AutoTokenizer, pipeline\n",
    "\n",
    "model_name = \"distilbert-base-cased-distilled-squad\"\n",
    "nlp = pipeline('question-answering', model=model_name, tokenizer=model_name)"
   ]
  },
  {
   "cell_type": "markdown",
   "id": "1bd7ed17",
   "metadata": {},
   "source": [
    "Single sentence"
   ]
  },
  {
   "cell_type": "code",
   "execution_count": 29,
   "id": "dfe10c59",
   "metadata": {},
   "outputs": [
    {
     "data": {
      "text/plain": [
       "{'score': 0.29852819442749023,\n",
       " 'start': 59,\n",
       " 'end': 132,\n",
       " 'answer': 'gives freedom to the user and let people easily switch between frameworks'}"
      ]
     },
     "execution_count": 29,
     "metadata": {},
     "output_type": "execute_result"
    }
   ],
   "source": [
    "QA_input = {\n",
    "    'question': 'Why is model conversion important?',\n",
    "    'context': 'The option to convert models between FARM and transformers gives freedom to the user and let people easily switch between frameworks.'\n",
    "}\n",
    "res = nlp(QA_input)\n",
    "res"
   ]
  },
  {
   "cell_type": "markdown",
   "id": "47cb4cf9",
   "metadata": {},
   "source": [
    "Executing on a batch or dataframe"
   ]
  },
  {
   "cell_type": "code",
   "execution_count": 30,
   "id": "0dbd1099",
   "metadata": {},
   "outputs": [
    {
     "data": {
      "text/plain": [
       "{'score': 0.8303152322769165, 'start': 7529, 'end': 7535, 'answer': 'father'}"
      ]
     },
     "execution_count": 30,
     "metadata": {},
     "output_type": "execute_result"
    }
   ],
   "source": [
    "QA_input = {\n",
    "    'question': 'Who is thor?',\n",
    "    'context': '. '.join(data['Sentences'].tolist())\n",
    "}\n",
    "res = nlp(QA_input)\n",
    "res"
   ]
  },
  {
   "cell_type": "code",
   "execution_count": 31,
   "id": "043fcfce",
   "metadata": {},
   "outputs": [
    {
     "data": {
      "text/plain": [
       "{'score': 0.641624391078949,\n",
       " 'start': 4564,\n",
       " 'end': 4576,\n",
       " 'answer': 'Stormbreaker'}"
      ]
     },
     "execution_count": 31,
     "metadata": {},
     "output_type": "execute_result"
    }
   ],
   "source": [
    "QA_input = {\n",
    "    'question': \"What is thor's weapon?\",\n",
    "    'context': '. '.join(data['Sentences'].tolist())\n",
    "}\n",
    "res = nlp(QA_input)\n",
    "res"
   ]
  },
  {
   "cell_type": "code",
   "execution_count": null,
   "id": "ef25ffc3",
   "metadata": {},
   "outputs": [],
   "source": []
  },
  {
   "cell_type": "code",
   "execution_count": null,
   "id": "fa200bd9",
   "metadata": {},
   "outputs": [],
   "source": []
  },
  {
   "cell_type": "code",
   "execution_count": null,
   "id": "e8569c49",
   "metadata": {},
   "outputs": [],
   "source": []
  }
 ],
 "metadata": {
  "kernelspec": {
   "display_name": "Python 3",
   "language": "python",
   "name": "python3"
  },
  "language_info": {
   "codemirror_mode": {
    "name": "ipython",
    "version": 3
   },
   "file_extension": ".py",
   "mimetype": "text/x-python",
   "name": "python",
   "nbconvert_exporter": "python",
   "pygments_lexer": "ipython3",
   "version": "3.7.10"
  }
 },
 "nbformat": 4,
 "nbformat_minor": 5
}
